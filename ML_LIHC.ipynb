{
 "cells": [
  {
   "cell_type": "code",
   "execution_count": 177,
   "metadata": {
    "executionInfo": {
     "elapsed": 244,
     "status": "ok",
     "timestamp": 1656949263758,
     "user": {
      "displayName": "Kristin Koehler",
      "userId": "05608814021879890211"
     },
     "user_tz": -120
    },
    "id": "kzQnS14atyct"
   },
   "outputs": [],
   "source": [
    "from sklearn.ensemble import RandomForestClassifier\n",
    "from sklearn.model_selection import train_test_split \n",
    "from sklearn.metrics import classification_report\n",
    "from sklearn.metrics import RocCurveDisplay\n",
    "from sklearn.model_selection import RandomizedSearchCV\n",
    "from sklearn.model_selection import GridSearchCV\n",
    "from sklearn.metrics import confusion_matrix, ConfusionMatrixDisplay\n",
    "\n",
    "import pandas as pd\n",
    "import numpy as np\n",
    "import matplotlib.pyplot as plt\n",
    "import math"
   ]
  },
  {
   "cell_type": "markdown",
   "metadata": {
    "id": "54bohBHj4Q_5"
   },
   "source": [
    "# Load data"
   ]
  },
  {
   "cell_type": "code",
   "execution_count": 100,
   "metadata": {
    "colab": {
     "base_uri": "https://localhost:8080/",
     "height": 560
    },
    "executionInfo": {
     "elapsed": 239,
     "status": "ok",
     "timestamp": 1656948763734,
     "user": {
      "displayName": "Kristin Koehler",
      "userId": "05608814021879890211"
     },
     "user_tz": -120
    },
    "id": "u-DzuRnmt-Z5",
    "outputId": "ecf6089f-94ed-4c9f-b954-83cdf36275b1"
   },
   "outputs": [
    {
     "data": {
      "text/html": [
       "<div>\n",
       "<style scoped>\n",
       "    .dataframe tbody tr th:only-of-type {\n",
       "        vertical-align: middle;\n",
       "    }\n",
       "\n",
       "    .dataframe tbody tr th {\n",
       "        vertical-align: top;\n",
       "    }\n",
       "\n",
       "    .dataframe thead th {\n",
       "        text-align: right;\n",
       "    }\n",
       "</style>\n",
       "<table border=\"1\" class=\"dataframe\">\n",
       "  <thead>\n",
       "    <tr style=\"text-align: right;\">\n",
       "      <th></th>\n",
       "      <th>ENSG00000162670.11</th>\n",
       "      <th>ENSG00000250579.2</th>\n",
       "      <th>ENSG00000249001.5</th>\n",
       "      <th>ENSG00000106038.13</th>\n",
       "      <th>ENSG00000229876.1</th>\n",
       "      <th>ENSG00000179083.6</th>\n",
       "      <th>ENSG00000146755.11</th>\n",
       "      <th>ENSG00000029559.7</th>\n",
       "      <th>ENSG00000159184.8</th>\n",
       "      <th>ENSG00000250284.3</th>\n",
       "      <th>...</th>\n",
       "      <th>cg06752054</th>\n",
       "      <th>cg12544663</th>\n",
       "      <th>cg22509384</th>\n",
       "      <th>cg26315617</th>\n",
       "      <th>cg10065209</th>\n",
       "      <th>cg02144924</th>\n",
       "      <th>cg22730626</th>\n",
       "      <th>cg01973908</th>\n",
       "      <th>sample_type</th>\n",
       "      <th>vital_status</th>\n",
       "    </tr>\n",
       "  </thead>\n",
       "  <tbody>\n",
       "    <tr>\n",
       "      <th>TCGA-ZP-A9CY-01</th>\n",
       "      <td>5</td>\n",
       "      <td>93</td>\n",
       "      <td>1</td>\n",
       "      <td>0</td>\n",
       "      <td>1</td>\n",
       "      <td>1</td>\n",
       "      <td>17</td>\n",
       "      <td>4</td>\n",
       "      <td>0</td>\n",
       "      <td>0</td>\n",
       "      <td>...</td>\n",
       "      <td>0.057347</td>\n",
       "      <td>0.401574</td>\n",
       "      <td>0.508229</td>\n",
       "      <td>0.359991</td>\n",
       "      <td>0.846454</td>\n",
       "      <td>0.385705</td>\n",
       "      <td>0.441197</td>\n",
       "      <td>0.304071</td>\n",
       "      <td>Primary Tumor</td>\n",
       "      <td>Alive</td>\n",
       "    </tr>\n",
       "    <tr>\n",
       "      <th>TCGA-DD-AAVZ-01</th>\n",
       "      <td>0</td>\n",
       "      <td>72</td>\n",
       "      <td>0</td>\n",
       "      <td>2</td>\n",
       "      <td>0</td>\n",
       "      <td>0</td>\n",
       "      <td>2444</td>\n",
       "      <td>0</td>\n",
       "      <td>0</td>\n",
       "      <td>0</td>\n",
       "      <td>...</td>\n",
       "      <td>0.028248</td>\n",
       "      <td>0.977648</td>\n",
       "      <td>0.981029</td>\n",
       "      <td>0.975435</td>\n",
       "      <td>0.643069</td>\n",
       "      <td>0.975916</td>\n",
       "      <td>0.975635</td>\n",
       "      <td>0.930332</td>\n",
       "      <td>Primary Tumor</td>\n",
       "      <td>Alive</td>\n",
       "    </tr>\n",
       "    <tr>\n",
       "      <th>TCGA-DD-A1EC-11</th>\n",
       "      <td>0</td>\n",
       "      <td>0</td>\n",
       "      <td>0</td>\n",
       "      <td>0</td>\n",
       "      <td>0</td>\n",
       "      <td>1</td>\n",
       "      <td>19</td>\n",
       "      <td>0</td>\n",
       "      <td>2</td>\n",
       "      <td>0</td>\n",
       "      <td>...</td>\n",
       "      <td>0.646390</td>\n",
       "      <td>0.974809</td>\n",
       "      <td>0.976811</td>\n",
       "      <td>0.982140</td>\n",
       "      <td>0.975125</td>\n",
       "      <td>0.970166</td>\n",
       "      <td>0.984650</td>\n",
       "      <td>0.920895</td>\n",
       "      <td>Solid Tissue Normal</td>\n",
       "      <td>Alive</td>\n",
       "    </tr>\n",
       "    <tr>\n",
       "      <th>TCGA-DD-A1EC-01</th>\n",
       "      <td>0</td>\n",
       "      <td>0</td>\n",
       "      <td>0</td>\n",
       "      <td>0</td>\n",
       "      <td>0</td>\n",
       "      <td>0</td>\n",
       "      <td>2</td>\n",
       "      <td>0</td>\n",
       "      <td>0</td>\n",
       "      <td>0</td>\n",
       "      <td>...</td>\n",
       "      <td>0.038572</td>\n",
       "      <td>0.973979</td>\n",
       "      <td>0.965864</td>\n",
       "      <td>0.857735</td>\n",
       "      <td>0.548383</td>\n",
       "      <td>0.941636</td>\n",
       "      <td>0.611837</td>\n",
       "      <td>0.411359</td>\n",
       "      <td>Primary Tumor</td>\n",
       "      <td>Alive</td>\n",
       "    </tr>\n",
       "    <tr>\n",
       "      <th>TCGA-G3-A25T-01</th>\n",
       "      <td>0</td>\n",
       "      <td>49</td>\n",
       "      <td>0</td>\n",
       "      <td>15</td>\n",
       "      <td>0</td>\n",
       "      <td>3</td>\n",
       "      <td>56</td>\n",
       "      <td>409</td>\n",
       "      <td>123</td>\n",
       "      <td>0</td>\n",
       "      <td>...</td>\n",
       "      <td>0.793002</td>\n",
       "      <td>0.982413</td>\n",
       "      <td>0.979154</td>\n",
       "      <td>0.977417</td>\n",
       "      <td>0.985435</td>\n",
       "      <td>0.964828</td>\n",
       "      <td>0.975571</td>\n",
       "      <td>0.939466</td>\n",
       "      <td>Primary Tumor</td>\n",
       "      <td>Alive</td>\n",
       "    </tr>\n",
       "  </tbody>\n",
       "</table>\n",
       "<p>5 rows × 902 columns</p>\n",
       "</div>"
      ],
      "text/plain": [
       "                 ENSG00000162670.11  ENSG00000250579.2  ENSG00000249001.5  \\\n",
       "TCGA-ZP-A9CY-01                   5                 93                  1   \n",
       "TCGA-DD-AAVZ-01                   0                 72                  0   \n",
       "TCGA-DD-A1EC-11                   0                  0                  0   \n",
       "TCGA-DD-A1EC-01                   0                  0                  0   \n",
       "TCGA-G3-A25T-01                   0                 49                  0   \n",
       "\n",
       "                 ENSG00000106038.13  ENSG00000229876.1  ENSG00000179083.6  \\\n",
       "TCGA-ZP-A9CY-01                   0                  1                  1   \n",
       "TCGA-DD-AAVZ-01                   2                  0                  0   \n",
       "TCGA-DD-A1EC-11                   0                  0                  1   \n",
       "TCGA-DD-A1EC-01                   0                  0                  0   \n",
       "TCGA-G3-A25T-01                  15                  0                  3   \n",
       "\n",
       "                 ENSG00000146755.11  ENSG00000029559.7  ENSG00000159184.8  \\\n",
       "TCGA-ZP-A9CY-01                  17                  4                  0   \n",
       "TCGA-DD-AAVZ-01                2444                  0                  0   \n",
       "TCGA-DD-A1EC-11                  19                  0                  2   \n",
       "TCGA-DD-A1EC-01                   2                  0                  0   \n",
       "TCGA-G3-A25T-01                  56                409                123   \n",
       "\n",
       "                 ENSG00000250284.3  ...  cg06752054  cg12544663  cg22509384  \\\n",
       "TCGA-ZP-A9CY-01                  0  ...    0.057347    0.401574    0.508229   \n",
       "TCGA-DD-AAVZ-01                  0  ...    0.028248    0.977648    0.981029   \n",
       "TCGA-DD-A1EC-11                  0  ...    0.646390    0.974809    0.976811   \n",
       "TCGA-DD-A1EC-01                  0  ...    0.038572    0.973979    0.965864   \n",
       "TCGA-G3-A25T-01                  0  ...    0.793002    0.982413    0.979154   \n",
       "\n",
       "                 cg26315617  cg10065209  cg02144924  cg22730626  cg01973908  \\\n",
       "TCGA-ZP-A9CY-01    0.359991    0.846454    0.385705    0.441197    0.304071   \n",
       "TCGA-DD-AAVZ-01    0.975435    0.643069    0.975916    0.975635    0.930332   \n",
       "TCGA-DD-A1EC-11    0.982140    0.975125    0.970166    0.984650    0.920895   \n",
       "TCGA-DD-A1EC-01    0.857735    0.548383    0.941636    0.611837    0.411359   \n",
       "TCGA-G3-A25T-01    0.977417    0.985435    0.964828    0.975571    0.939466   \n",
       "\n",
       "                         sample_type  vital_status  \n",
       "TCGA-ZP-A9CY-01        Primary Tumor         Alive  \n",
       "TCGA-DD-AAVZ-01        Primary Tumor         Alive  \n",
       "TCGA-DD-A1EC-11  Solid Tissue Normal         Alive  \n",
       "TCGA-DD-A1EC-01        Primary Tumor         Alive  \n",
       "TCGA-G3-A25T-01        Primary Tumor         Alive  \n",
       "\n",
       "[5 rows x 902 columns]"
      ]
     },
     "execution_count": 100,
     "metadata": {},
     "output_type": "execute_result"
    }
   ],
   "source": [
    "features_exp_meth = pd.read_csv(\"data/features_exp_meth.tsv\", sep = \"\\t\")\n",
    "features_exp_meth.head()"
   ]
  },
  {
   "cell_type": "code",
   "execution_count": 167,
   "metadata": {},
   "outputs": [
    {
     "data": {
      "text/html": [
       "<div>\n",
       "<style scoped>\n",
       "    .dataframe tbody tr th:only-of-type {\n",
       "        vertical-align: middle;\n",
       "    }\n",
       "\n",
       "    .dataframe tbody tr th {\n",
       "        vertical-align: top;\n",
       "    }\n",
       "\n",
       "    .dataframe thead th {\n",
       "        text-align: right;\n",
       "    }\n",
       "</style>\n",
       "<table border=\"1\" class=\"dataframe\">\n",
       "  <thead>\n",
       "    <tr style=\"text-align: right;\">\n",
       "      <th></th>\n",
       "      <th>ENSG00000162670.11</th>\n",
       "      <th>ENSG00000250579.2</th>\n",
       "      <th>ENSG00000249001.5</th>\n",
       "      <th>ENSG00000106038.13</th>\n",
       "      <th>ENSG00000229876.1</th>\n",
       "      <th>ENSG00000179083.6</th>\n",
       "      <th>ENSG00000146755.11</th>\n",
       "      <th>ENSG00000029559.7</th>\n",
       "      <th>ENSG00000159184.8</th>\n",
       "      <th>ENSG00000250284.3</th>\n",
       "      <th>...</th>\n",
       "      <th>chr19:33723706-33837231</th>\n",
       "      <th>chr20:13964029-16252980</th>\n",
       "      <th>chr20:49017144-49057135</th>\n",
       "      <th>chr20:60328006-63025520</th>\n",
       "      <th>chr22:28314430-29085838</th>\n",
       "      <th>chr22:44205320-51304566</th>\n",
       "      <th>sample_type</th>\n",
       "      <th>vital_status</th>\n",
       "      <th>days_to_death</th>\n",
       "      <th>ajcc_pathologic_stage</th>\n",
       "    </tr>\n",
       "  </thead>\n",
       "  <tbody>\n",
       "    <tr>\n",
       "      <th>TCGA-ZP-A9CY-01</th>\n",
       "      <td>5</td>\n",
       "      <td>93</td>\n",
       "      <td>1</td>\n",
       "      <td>0</td>\n",
       "      <td>1</td>\n",
       "      <td>1</td>\n",
       "      <td>17</td>\n",
       "      <td>4</td>\n",
       "      <td>0</td>\n",
       "      <td>0</td>\n",
       "      <td>...</td>\n",
       "      <td>0</td>\n",
       "      <td>0</td>\n",
       "      <td>0</td>\n",
       "      <td>0</td>\n",
       "      <td>0</td>\n",
       "      <td>0</td>\n",
       "      <td>Primary Tumor</td>\n",
       "      <td>Alive</td>\n",
       "      <td>NaN</td>\n",
       "      <td>NaN</td>\n",
       "    </tr>\n",
       "    <tr>\n",
       "      <th>TCGA-DD-AAVZ-01</th>\n",
       "      <td>0</td>\n",
       "      <td>72</td>\n",
       "      <td>0</td>\n",
       "      <td>2</td>\n",
       "      <td>0</td>\n",
       "      <td>0</td>\n",
       "      <td>2444</td>\n",
       "      <td>0</td>\n",
       "      <td>0</td>\n",
       "      <td>0</td>\n",
       "      <td>...</td>\n",
       "      <td>0</td>\n",
       "      <td>0</td>\n",
       "      <td>0</td>\n",
       "      <td>0</td>\n",
       "      <td>0</td>\n",
       "      <td>0</td>\n",
       "      <td>Primary Tumor</td>\n",
       "      <td>Alive</td>\n",
       "      <td>NaN</td>\n",
       "      <td>Stage I</td>\n",
       "    </tr>\n",
       "    <tr>\n",
       "      <th>TCGA-DD-A1EC-01</th>\n",
       "      <td>0</td>\n",
       "      <td>0</td>\n",
       "      <td>0</td>\n",
       "      <td>0</td>\n",
       "      <td>0</td>\n",
       "      <td>0</td>\n",
       "      <td>2</td>\n",
       "      <td>0</td>\n",
       "      <td>0</td>\n",
       "      <td>0</td>\n",
       "      <td>...</td>\n",
       "      <td>1</td>\n",
       "      <td>0</td>\n",
       "      <td>0</td>\n",
       "      <td>0</td>\n",
       "      <td>0</td>\n",
       "      <td>0</td>\n",
       "      <td>Primary Tumor</td>\n",
       "      <td>Alive</td>\n",
       "      <td>NaN</td>\n",
       "      <td>Stage I</td>\n",
       "    </tr>\n",
       "    <tr>\n",
       "      <th>TCGA-G3-A25T-01</th>\n",
       "      <td>0</td>\n",
       "      <td>49</td>\n",
       "      <td>0</td>\n",
       "      <td>15</td>\n",
       "      <td>0</td>\n",
       "      <td>3</td>\n",
       "      <td>56</td>\n",
       "      <td>409</td>\n",
       "      <td>123</td>\n",
       "      <td>0</td>\n",
       "      <td>...</td>\n",
       "      <td>1</td>\n",
       "      <td>0</td>\n",
       "      <td>0</td>\n",
       "      <td>0</td>\n",
       "      <td>1</td>\n",
       "      <td>1</td>\n",
       "      <td>Primary Tumor</td>\n",
       "      <td>Alive</td>\n",
       "      <td>NaN</td>\n",
       "      <td>Stage III</td>\n",
       "    </tr>\n",
       "    <tr>\n",
       "      <th>TCGA-CC-A8HT-01</th>\n",
       "      <td>156</td>\n",
       "      <td>1</td>\n",
       "      <td>65</td>\n",
       "      <td>8</td>\n",
       "      <td>196</td>\n",
       "      <td>558</td>\n",
       "      <td>153</td>\n",
       "      <td>5</td>\n",
       "      <td>13</td>\n",
       "      <td>36</td>\n",
       "      <td>...</td>\n",
       "      <td>0</td>\n",
       "      <td>0</td>\n",
       "      <td>0</td>\n",
       "      <td>0</td>\n",
       "      <td>0</td>\n",
       "      <td>0</td>\n",
       "      <td>Primary Tumor</td>\n",
       "      <td>Dead</td>\n",
       "      <td>140.0</td>\n",
       "      <td>Stage III</td>\n",
       "    </tr>\n",
       "  </tbody>\n",
       "</table>\n",
       "<p>5 rows × 963 columns</p>\n",
       "</div>"
      ],
      "text/plain": [
       "                 ENSG00000162670.11  ENSG00000250579.2  ENSG00000249001.5  \\\n",
       "TCGA-ZP-A9CY-01                   5                 93                  1   \n",
       "TCGA-DD-AAVZ-01                   0                 72                  0   \n",
       "TCGA-DD-A1EC-01                   0                  0                  0   \n",
       "TCGA-G3-A25T-01                   0                 49                  0   \n",
       "TCGA-CC-A8HT-01                 156                  1                 65   \n",
       "\n",
       "                 ENSG00000106038.13  ENSG00000229876.1  ENSG00000179083.6  \\\n",
       "TCGA-ZP-A9CY-01                   0                  1                  1   \n",
       "TCGA-DD-AAVZ-01                   2                  0                  0   \n",
       "TCGA-DD-A1EC-01                   0                  0                  0   \n",
       "TCGA-G3-A25T-01                  15                  0                  3   \n",
       "TCGA-CC-A8HT-01                   8                196                558   \n",
       "\n",
       "                 ENSG00000146755.11  ENSG00000029559.7  ENSG00000159184.8  \\\n",
       "TCGA-ZP-A9CY-01                  17                  4                  0   \n",
       "TCGA-DD-AAVZ-01                2444                  0                  0   \n",
       "TCGA-DD-A1EC-01                   2                  0                  0   \n",
       "TCGA-G3-A25T-01                  56                409                123   \n",
       "TCGA-CC-A8HT-01                 153                  5                 13   \n",
       "\n",
       "                 ENSG00000250284.3  ...  chr19:33723706-33837231  \\\n",
       "TCGA-ZP-A9CY-01                  0  ...                        0   \n",
       "TCGA-DD-AAVZ-01                  0  ...                        0   \n",
       "TCGA-DD-A1EC-01                  0  ...                        1   \n",
       "TCGA-G3-A25T-01                  0  ...                        1   \n",
       "TCGA-CC-A8HT-01                 36  ...                        0   \n",
       "\n",
       "                 chr20:13964029-16252980  chr20:49017144-49057135  \\\n",
       "TCGA-ZP-A9CY-01                        0                        0   \n",
       "TCGA-DD-AAVZ-01                        0                        0   \n",
       "TCGA-DD-A1EC-01                        0                        0   \n",
       "TCGA-G3-A25T-01                        0                        0   \n",
       "TCGA-CC-A8HT-01                        0                        0   \n",
       "\n",
       "                 chr20:60328006-63025520  chr22:28314430-29085838  \\\n",
       "TCGA-ZP-A9CY-01                        0                        0   \n",
       "TCGA-DD-AAVZ-01                        0                        0   \n",
       "TCGA-DD-A1EC-01                        0                        0   \n",
       "TCGA-G3-A25T-01                        0                        1   \n",
       "TCGA-CC-A8HT-01                        0                        0   \n",
       "\n",
       "                 chr22:44205320-51304566    sample_type  vital_status  \\\n",
       "TCGA-ZP-A9CY-01                        0  Primary Tumor         Alive   \n",
       "TCGA-DD-AAVZ-01                        0  Primary Tumor         Alive   \n",
       "TCGA-DD-A1EC-01                        0  Primary Tumor         Alive   \n",
       "TCGA-G3-A25T-01                        1  Primary Tumor         Alive   \n",
       "TCGA-CC-A8HT-01                        0  Primary Tumor          Dead   \n",
       "\n",
       "                 days_to_death  ajcc_pathologic_stage  \n",
       "TCGA-ZP-A9CY-01            NaN                    NaN  \n",
       "TCGA-DD-AAVZ-01            NaN                Stage I  \n",
       "TCGA-DD-A1EC-01            NaN                Stage I  \n",
       "TCGA-G3-A25T-01            NaN              Stage III  \n",
       "TCGA-CC-A8HT-01          140.0              Stage III  \n",
       "\n",
       "[5 rows x 963 columns]"
      ]
     },
     "execution_count": 167,
     "metadata": {},
     "output_type": "execute_result"
    }
   ],
   "source": [
    "features_complete = pd.read_csv(\"data/features_complete.tsv\", sep = \"\\t\")\n",
    "features_complete.head()"
   ]
  },
  {
   "cell_type": "markdown",
   "metadata": {
    "id": "bYLCGCmI4JEO"
   },
   "source": [
    "# Predicting tissue type from DEGs and DMLs (healthy vs. cancer)"
   ]
  },
  {
   "cell_type": "code",
   "execution_count": 101,
   "metadata": {
    "colab": {
     "base_uri": "https://localhost:8080/"
    },
    "executionInfo": {
     "elapsed": 252,
     "status": "ok",
     "timestamp": 1656948478239,
     "user": {
      "displayName": "Kristin Koehler",
      "userId": "05608814021879890211"
     },
     "user_tz": -120
    },
    "id": "SAhe3Rcwxs5l",
    "outputId": "d7858052-a3b8-402e-f164-6c080ac57bd5",
    "scrolled": false
   },
   "outputs": [
    {
     "data": {
      "text/plain": [
       "Primary Tumor          371\n",
       "Solid Tissue Normal     41\n",
       "Name: sample_type, dtype: int64"
      ]
     },
     "execution_count": 101,
     "metadata": {},
     "output_type": "execute_result"
    }
   ],
   "source": [
    "##highly imbalanced > subsample?\n",
    "features_exp_meth.loc[:,'sample_type'].value_counts()"
   ]
  },
  {
   "cell_type": "markdown",
   "metadata": {},
   "source": [
    "## Hyperparameter optimization (10-fold cross validation)"
   ]
  },
  {
   "cell_type": "code",
   "execution_count": 48,
   "metadata": {},
   "outputs": [],
   "source": [
    "n_estimators = range(50,501,50) #list [start:stop:step], np arange\n",
    "max_features = np.arange(0.1,0.4,0.05)\n",
    "max_samples = np.arange(0.1,0.4,0.05)\n",
    "\n",
    "random_grid = {'n_estimators': n_estimators,\n",
    "               'max_features': max_features,\n",
    "               'max_samples': max_samples,\n",
    "               'class_weight': ['balanced', 'balanced_subsample']\n",
    "              }"
   ]
  },
  {
   "cell_type": "code",
   "execution_count": 53,
   "metadata": {},
   "outputs": [
    {
     "name": "stdout",
     "output_type": "stream",
     "text": [
      "Fitting 10 folds for each of 100 candidates, totalling 1000 fits\n"
     ]
    },
    {
     "data": {
      "text/plain": [
       "{'n_estimators': 250,\n",
       " 'max_samples': 0.40000000000000013,\n",
       " 'max_features': 0.1,\n",
       " 'class_weight': 'balanced_subsample'}"
      ]
     },
     "execution_count": 53,
     "metadata": {},
     "output_type": "execute_result"
    }
   ],
   "source": [
    "rf = RandomForestClassifier()\n",
    "rf_random_tissue = RandomizedSearchCV(estimator = rf, param_distributions = random_grid, n_iter = 100, cv = 10, verbose=2, random_state=41, n_jobs = -1)\n",
    "rf_random_tissue.fit(features_exp_meth.drop(['sample_type', 'vital_status'], axis = 1), features_exp_meth.loc[:,'sample_type'])\n",
    "rf_random_tissue.best_params_"
   ]
  },
  {
   "cell_type": "markdown",
   "metadata": {},
   "source": [
    "## Train and test model with best parameters"
   ]
  },
  {
   "cell_type": "code",
   "execution_count": 186,
   "metadata": {
    "colab": {
     "base_uri": "https://localhost:8080/"
    },
    "executionInfo": {
     "elapsed": 1851,
     "status": "ok",
     "timestamp": 1656949292207,
     "user": {
      "displayName": "Kristin Koehler",
      "userId": "05608814021879890211"
     },
     "user_tz": -120
    },
    "id": "GfLfCHqBvvFe",
    "outputId": "b1f5e7c8-0e1a-4fae-f830-fcff1df9a5e2",
    "scrolled": true
   },
   "outputs": [
    {
     "name": "stdout",
     "output_type": "stream",
     "text": [
      "classification report on the train set: \n",
      "                      precision    recall  f1-score   support\n",
      "\n",
      "      Primary Tumor       1.00      1.00      1.00       250\n",
      "Solid Tissue Normal       0.96      0.96      0.96        26\n",
      "\n",
      "           accuracy                           0.99       276\n",
      "          macro avg       0.98      0.98      0.98       276\n",
      "       weighted avg       0.99      0.99      0.99       276\n",
      "\n",
      "classification report on the test set: \n",
      "                      precision    recall  f1-score   support\n",
      "\n",
      "      Primary Tumor       0.99      1.00      1.00       121\n",
      "Solid Tissue Normal       1.00      0.93      0.97        15\n",
      "\n",
      "           accuracy                           0.99       136\n",
      "          macro avg       1.00      0.97      0.98       136\n",
      "       weighted avg       0.99      0.99      0.99       136\n",
      "\n"
     ]
    }
   ],
   "source": [
    "##predict sample type using expression and methylation data\n",
    "\n",
    "X = features_exp_meth.drop(['sample_type', 'vital_status'], axis = 1)\n",
    "y = features_exp_meth.loc[:,'sample_type']\n",
    "\n",
    "X_train, X_test, y_train, y_test = train_test_split(X, y, test_size=0.33, random_state=0) \n",
    "\n",
    "clf_type = RandomForestClassifier(n_estimators = 250,  \n",
    "                             max_samples =  0.3500000000000001, \n",
    "                             max_features = 0.1,\n",
    "                             class_weight = 'balanced_subsample',\n",
    "                             random_state=0)\n",
    "\n",
    "clf_type.fit(X_train, y_train)\n",
    "\n",
    "y_pred_train = clf_type.predict(X_train)\n",
    "y_pred_test = clf_type.predict(X_test)\n",
    "\n",
    "print(\"classification report on the train set: \\n\" ,classification_report(y_train, y_pred_train))\n",
    "print(\"classification report on the test set: \\n\" ,classification_report(y_test, y_pred_test))"
   ]
  },
  {
   "cell_type": "code",
   "execution_count": 192,
   "metadata": {},
   "outputs": [
    {
     "name": "stdout",
     "output_type": "stream",
     "text": [
      "confusion matrix on the train set: \n",
      "\n"
     ]
    },
    {
     "data": {
      "text/plain": [
       "<sklearn.metrics._plot.confusion_matrix.ConfusionMatrixDisplay at 0x2215dcca970>"
      ]
     },
     "execution_count": 192,
     "metadata": {},
     "output_type": "execute_result"
    },
    {
     "data": {
      "image/png": "[encoded data removed]",
      "text/plain": [
       "<Figure size 432x288 with 2 Axes>"
      ]
     },
     "metadata": {
      "needs_background": "light"
     },
     "output_type": "display_data"
    }
   ],
   "source": [
    "print(\"confusion matrix on the train set: \\n\")\n",
    "ConfusionMatrixDisplay(confusion_matrix=confusion_matrix(y_train, y_pred_train, normalize = \"true\"), display_labels=clf_type.classes_).plot()"
   ]
  },
  {
   "cell_type": "code",
   "execution_count": 193,
   "metadata": {},
   "outputs": [
    {
     "name": "stdout",
     "output_type": "stream",
     "text": [
      "confusion matrix on the train set: \n",
      "\n"
     ]
    },
    {
     "data": {
      "text/plain": [
       "<sklearn.metrics._plot.confusion_matrix.ConfusionMatrixDisplay at 0x2215df3ab20>"
      ]
     },
     "execution_count": 193,
     "metadata": {},
     "output_type": "execute_result"
    },
    {
     "data": {
      "image/png": "[encoded data removed]",
      "text/plain": [
       "<Figure size 432x288 with 2 Axes>"
      ]
     },
     "metadata": {
      "needs_background": "light"
     },
     "output_type": "display_data"
    }
   ],
   "source": [
    "print(\"confusion matrix on the train set: \\n\")\n",
    "ConfusionMatrixDisplay(confusion_matrix=confusion_matrix(y_test, y_pred_test, normalize = \"true\"), display_labels=clf_type.classes_).plot()"
   ]
  },
  {
   "cell_type": "code",
   "execution_count": 103,
   "metadata": {
    "colab": {
     "base_uri": "https://localhost:8080/",
     "height": 323
    },
    "executionInfo": {
     "elapsed": 400,
     "status": "ok",
     "timestamp": 1656949295262,
     "user": {
      "displayName": "Kristin Koehler",
      "userId": "05608814021879890211"
     },
     "user_tz": -120
    },
    "id": "gpU0cw0T36Vd",
    "outputId": "ac1540eb-562e-44b9-e175-921d1c310041",
    "scrolled": false
   },
   "outputs": [
    {
     "data": {
      "text/plain": [
       "<sklearn.metrics._plot.roc_curve.RocCurveDisplay at 0x221542ca280>"
      ]
     },
     "execution_count": 103,
     "metadata": {},
     "output_type": "execute_result"
    },
    {
     "data": {
      "image/png": "[encoded data removed]",
      "text/plain": [
       "<Figure size 432x288 with 1 Axes>"
      ]
     },
     "metadata": {
      "needs_background": "light"
     },
     "output_type": "display_data"
    }
   ],
   "source": [
    "RocCurveDisplay.from_estimator(clf_type,X_test, y_test, name = 'Random forest- Vital status prediction')"
   ]
  },
  {
   "cell_type": "code",
   "execution_count": 105,
   "metadata": {
    "scrolled": true
   },
   "outputs": [
    {
     "data": {
      "text/html": [
       "<div>\n",
       "<style scoped>\n",
       "    .dataframe tbody tr th:only-of-type {\n",
       "        vertical-align: middle;\n",
       "    }\n",
       "\n",
       "    .dataframe tbody tr th {\n",
       "        vertical-align: top;\n",
       "    }\n",
       "\n",
       "    .dataframe thead th {\n",
       "        text-align: right;\n",
       "    }\n",
       "</style>\n",
       "<table border=\"1\" class=\"dataframe\">\n",
       "  <thead>\n",
       "    <tr style=\"text-align: right;\">\n",
       "      <th></th>\n",
       "      <th>Feature</th>\n",
       "      <th>Importance</th>\n",
       "    </tr>\n",
       "  </thead>\n",
       "  <tbody>\n",
       "    <tr>\n",
       "      <th>200</th>\n",
       "      <td>ENSG00000104938.18</td>\n",
       "      <td>0.062647</td>\n",
       "    </tr>\n",
       "    <tr>\n",
       "      <th>210</th>\n",
       "      <td>ENSG00000145708.11</td>\n",
       "      <td>0.050238</td>\n",
       "    </tr>\n",
       "    <tr>\n",
       "      <th>204</th>\n",
       "      <td>ENSG00000160339.16</td>\n",
       "      <td>0.047146</td>\n",
       "    </tr>\n",
       "    <tr>\n",
       "      <th>206</th>\n",
       "      <td>ENSG00000136011.15</td>\n",
       "      <td>0.047085</td>\n",
       "    </tr>\n",
       "    <tr>\n",
       "      <th>209</th>\n",
       "      <td>ENSG00000164619.10</td>\n",
       "      <td>0.037987</td>\n",
       "    </tr>\n",
       "    <tr>\n",
       "      <th>207</th>\n",
       "      <td>ENSG00000263761.3</td>\n",
       "      <td>0.033936</td>\n",
       "    </tr>\n",
       "    <tr>\n",
       "      <th>216</th>\n",
       "      <td>ENSG00000184374.3</td>\n",
       "      <td>0.030412</td>\n",
       "    </tr>\n",
       "    <tr>\n",
       "      <th>230</th>\n",
       "      <td>ENSG00000114812.13</td>\n",
       "      <td>0.030362</td>\n",
       "    </tr>\n",
       "    <tr>\n",
       "      <th>205</th>\n",
       "      <td>ENSG00000019169.10</td>\n",
       "      <td>0.030262</td>\n",
       "    </tr>\n",
       "    <tr>\n",
       "      <th>215</th>\n",
       "      <td>ENSG00000142748.13</td>\n",
       "      <td>0.029968</td>\n",
       "    </tr>\n",
       "    <tr>\n",
       "      <th>244</th>\n",
       "      <td>ENSG00000138315.13</td>\n",
       "      <td>0.027455</td>\n",
       "    </tr>\n",
       "    <tr>\n",
       "      <th>201</th>\n",
       "      <td>ENSG00000165682.14</td>\n",
       "      <td>0.027177</td>\n",
       "    </tr>\n",
       "    <tr>\n",
       "      <th>208</th>\n",
       "      <td>ENSG00000163217.2</td>\n",
       "      <td>0.026628</td>\n",
       "    </tr>\n",
       "    <tr>\n",
       "      <th>229</th>\n",
       "      <td>ENSG00000185652.12</td>\n",
       "      <td>0.026414</td>\n",
       "    </tr>\n",
       "    <tr>\n",
       "      <th>403</th>\n",
       "      <td>cg05626536</td>\n",
       "      <td>0.022263</td>\n",
       "    </tr>\n",
       "    <tr>\n",
       "      <th>337</th>\n",
       "      <td>ENSG00000147113.17</td>\n",
       "      <td>0.019715</td>\n",
       "    </tr>\n",
       "    <tr>\n",
       "      <th>211</th>\n",
       "      <td>ENSG00000164100.9</td>\n",
       "      <td>0.018942</td>\n",
       "    </tr>\n",
       "    <tr>\n",
       "      <th>214</th>\n",
       "      <td>ENSG00000227729.5</td>\n",
       "      <td>0.018933</td>\n",
       "    </tr>\n",
       "    <tr>\n",
       "      <th>101</th>\n",
       "      <td>ENSG00000224189.8</td>\n",
       "      <td>0.017676</td>\n",
       "    </tr>\n",
       "    <tr>\n",
       "      <th>258</th>\n",
       "      <td>ENSG00000130812.10</td>\n",
       "      <td>0.015460</td>\n",
       "    </tr>\n",
       "    <tr>\n",
       "      <th>246</th>\n",
       "      <td>ENSG00000160801.14</td>\n",
       "      <td>0.015308</td>\n",
       "    </tr>\n",
       "    <tr>\n",
       "      <th>11</th>\n",
       "      <td>ENSG00000113296.14</td>\n",
       "      <td>0.014942</td>\n",
       "    </tr>\n",
       "    <tr>\n",
       "      <th>325</th>\n",
       "      <td>ENSG00000174059.17</td>\n",
       "      <td>0.011749</td>\n",
       "    </tr>\n",
       "    <tr>\n",
       "      <th>335</th>\n",
       "      <td>ENSG00000139880.19</td>\n",
       "      <td>0.011654</td>\n",
       "    </tr>\n",
       "    <tr>\n",
       "      <th>203</th>\n",
       "      <td>ENSG00000288669.1</td>\n",
       "      <td>0.011465</td>\n",
       "    </tr>\n",
       "    <tr>\n",
       "      <th>293</th>\n",
       "      <td>ENSG00000144820.8</td>\n",
       "      <td>0.011414</td>\n",
       "    </tr>\n",
       "    <tr>\n",
       "      <th>222</th>\n",
       "      <td>ENSG00000100362.13</td>\n",
       "      <td>0.011379</td>\n",
       "    </tr>\n",
       "    <tr>\n",
       "      <th>238</th>\n",
       "      <td>ENSG00000166856.3</td>\n",
       "      <td>0.011136</td>\n",
       "    </tr>\n",
       "    <tr>\n",
       "      <th>213</th>\n",
       "      <td>ENSG00000251049.2</td>\n",
       "      <td>0.008268</td>\n",
       "    </tr>\n",
       "    <tr>\n",
       "      <th>274</th>\n",
       "      <td>ENSG00000163687.14</td>\n",
       "      <td>0.008010</td>\n",
       "    </tr>\n",
       "  </tbody>\n",
       "</table>\n",
       "</div>"
      ],
      "text/plain": [
       "                Feature  Importance\n",
       "200  ENSG00000104938.18    0.062647\n",
       "210  ENSG00000145708.11    0.050238\n",
       "204  ENSG00000160339.16    0.047146\n",
       "206  ENSG00000136011.15    0.047085\n",
       "209  ENSG00000164619.10    0.037987\n",
       "207   ENSG00000263761.3    0.033936\n",
       "216   ENSG00000184374.3    0.030412\n",
       "230  ENSG00000114812.13    0.030362\n",
       "205  ENSG00000019169.10    0.030262\n",
       "215  ENSG00000142748.13    0.029968\n",
       "244  ENSG00000138315.13    0.027455\n",
       "201  ENSG00000165682.14    0.027177\n",
       "208   ENSG00000163217.2    0.026628\n",
       "229  ENSG00000185652.12    0.026414\n",
       "403          cg05626536    0.022263\n",
       "337  ENSG00000147113.17    0.019715\n",
       "211   ENSG00000164100.9    0.018942\n",
       "214   ENSG00000227729.5    0.018933\n",
       "101   ENSG00000224189.8    0.017676\n",
       "258  ENSG00000130812.10    0.015460\n",
       "246  ENSG00000160801.14    0.015308\n",
       "11   ENSG00000113296.14    0.014942\n",
       "325  ENSG00000174059.17    0.011749\n",
       "335  ENSG00000139880.19    0.011654\n",
       "203   ENSG00000288669.1    0.011465\n",
       "293   ENSG00000144820.8    0.011414\n",
       "222  ENSG00000100362.13    0.011379\n",
       "238   ENSG00000166856.3    0.011136\n",
       "213   ENSG00000251049.2    0.008268\n",
       "274  ENSG00000163687.14    0.008010"
      ]
     },
     "execution_count": 105,
     "metadata": {},
     "output_type": "execute_result"
    }
   ],
   "source": [
    "data=pd.DataFrame({'Feature': X_train.columns, 'Importance': clf_type.feature_importances_})\n",
    "data=data.sort_values('Importance').iloc[::-1]\n",
    "data.head(30)"
   ]
  },
  {
   "cell_type": "code",
   "execution_count": 62,
   "metadata": {
    "scrolled": true
   },
   "outputs": [
    {
     "data": {
      "text/plain": [
       "(array([815.,   7.,   1.,   0.,   0.,  17.,  18.,   1.,   0.,   0.,   0.,\n",
       "          3.,   9.,   1.,   0.,   0.,   0.,   1.,   5.,   0.,   0.,   0.,\n",
       "          0.,   1.,   2.,   0.,   0.,   0.,   1.,   0.,   2.,   1.,   0.,\n",
       "          0.,   0.,   1.,   0.,   0.,   0.,   0.,   0.,   0.,   2.,   2.,\n",
       "          0.,   0.,   0.,   1.,   3.,   0.,   0.,   0.,   0.,   0.,   1.,\n",
       "          0.,   0.,   0.,   0.,   0.,   1.,   0.,   0.,   0.,   0.,   0.,\n",
       "          0.,   0.,   0.,   0.,   0.,   0.,   0.,   0.,   0.,   2.,   0.,\n",
       "          0.,   0.,   0.,   1.,   0.,   0.,   0.,   0.,   0.,   0.,   0.,\n",
       "          0.,   0.,   0.,   0.,   0.,   0.,   0.,   0.,   0.,   0.,   0.,\n",
       "          1.]),\n",
       " array([0.        , 0.00062647, 0.00125293, 0.0018794 , 0.00250586,\n",
       "        0.00313233, 0.0037588 , 0.00438526, 0.00501173, 0.00563819,\n",
       "        0.00626466, 0.00689113, 0.00751759, 0.00814406, 0.00877052,\n",
       "        0.00939699, 0.01002346, 0.01064992, 0.01127639, 0.01190285,\n",
       "        0.01252932, 0.01315579, 0.01378225, 0.01440872, 0.01503518,\n",
       "        0.01566165, 0.01628812, 0.01691458, 0.01754105, 0.01816751,\n",
       "        0.01879398, 0.01942045, 0.02004691, 0.02067338, 0.02129984,\n",
       "        0.02192631, 0.02255278, 0.02317924, 0.02380571, 0.02443217,\n",
       "        0.02505864, 0.02568511, 0.02631157, 0.02693804, 0.0275645 ,\n",
       "        0.02819097, 0.02881744, 0.0294439 , 0.03007037, 0.03069684,\n",
       "        0.0313233 , 0.03194977, 0.03257623, 0.0332027 , 0.03382917,\n",
       "        0.03445563, 0.0350821 , 0.03570856, 0.03633503, 0.0369615 ,\n",
       "        0.03758796, 0.03821443, 0.03884089, 0.03946736, 0.04009383,\n",
       "        0.04072029, 0.04134676, 0.04197322, 0.04259969, 0.04322616,\n",
       "        0.04385262, 0.04447909, 0.04510555, 0.04573202, 0.04635849,\n",
       "        0.04698495, 0.04761142, 0.04823788, 0.04886435, 0.04949082,\n",
       "        0.05011728, 0.05074375, 0.05137021, 0.05199668, 0.05262315,\n",
       "        0.05324961, 0.05387608, 0.05450254, 0.05512901, 0.05575548,\n",
       "        0.05638194, 0.05700841, 0.05763487, 0.05826134, 0.05888781,\n",
       "        0.05951427, 0.06014074, 0.0607672 , 0.06139367, 0.06202014,\n",
       "        0.0626466 ]),\n",
       " <BarContainer object of 100 artists>)"
      ]
     },
     "execution_count": 62,
     "metadata": {},
     "output_type": "execute_result"
    },
    {
     "data": {
      "image/png": "[encoded data removed]",
      "text/plain": [
       "<Figure size 432x288 with 1 Axes>"
      ]
     },
     "metadata": {
      "needs_background": "light"
     },
     "output_type": "display_data"
    }
   ],
   "source": [
    "##many features are not important\n",
    "plt.hist(data.Importance, bins = 100)"
   ]
  },
  {
   "cell_type": "code",
   "execution_count": 57,
   "metadata": {},
   "outputs": [],
   "source": [
    "data.to_csv(\"data/feature_importance.csv\")"
   ]
  },
  {
   "cell_type": "markdown",
   "metadata": {},
   "source": [
    "## Reduce number of features"
   ]
  },
  {
   "cell_type": "code",
   "execution_count": 197,
   "metadata": {},
   "outputs": [],
   "source": [
    "features_exp_meth_reduced = features_exp_meth.loc[:,data.head(100).Feature.values]\n",
    "features_exp_meth_reduced['sample_type'] = features_exp_meth.sample_type"
   ]
  },
  {
   "cell_type": "code",
   "execution_count": 198,
   "metadata": {
    "scrolled": true
   },
   "outputs": [
    {
     "data": {
      "text/html": [
       "<div>\n",
       "<style scoped>\n",
       "    .dataframe tbody tr th:only-of-type {\n",
       "        vertical-align: middle;\n",
       "    }\n",
       "\n",
       "    .dataframe tbody tr th {\n",
       "        vertical-align: top;\n",
       "    }\n",
       "\n",
       "    .dataframe thead th {\n",
       "        text-align: right;\n",
       "    }\n",
       "</style>\n",
       "<table border=\"1\" class=\"dataframe\">\n",
       "  <thead>\n",
       "    <tr style=\"text-align: right;\">\n",
       "      <th></th>\n",
       "      <th>ENSG00000104938.18</th>\n",
       "      <th>ENSG00000145708.11</th>\n",
       "      <th>ENSG00000160339.16</th>\n",
       "      <th>ENSG00000136011.15</th>\n",
       "      <th>ENSG00000164619.10</th>\n",
       "      <th>ENSG00000263761.3</th>\n",
       "      <th>ENSG00000184374.3</th>\n",
       "      <th>ENSG00000114812.13</th>\n",
       "      <th>ENSG00000019169.10</th>\n",
       "      <th>ENSG00000142748.13</th>\n",
       "      <th>...</th>\n",
       "      <th>ENSG00000082684.16</th>\n",
       "      <th>ENSG00000255501.3</th>\n",
       "      <th>ENSG00000112164.6</th>\n",
       "      <th>ENSG00000182798.10</th>\n",
       "      <th>cg24710938</th>\n",
       "      <th>ENSG00000249173.6</th>\n",
       "      <th>cg22274473</th>\n",
       "      <th>cg23263911</th>\n",
       "      <th>cg10732560</th>\n",
       "      <th>sample_type</th>\n",
       "    </tr>\n",
       "  </thead>\n",
       "  <tbody>\n",
       "    <tr>\n",
       "      <th>TCGA-ZP-A9CY-01</th>\n",
       "      <td>61</td>\n",
       "      <td>657</td>\n",
       "      <td>399</td>\n",
       "      <td>191</td>\n",
       "      <td>76</td>\n",
       "      <td>462</td>\n",
       "      <td>674</td>\n",
       "      <td>298</td>\n",
       "      <td>406</td>\n",
       "      <td>1026</td>\n",
       "      <td>...</td>\n",
       "      <td>76</td>\n",
       "      <td>6</td>\n",
       "      <td>8</td>\n",
       "      <td>7</td>\n",
       "      <td>0.645364</td>\n",
       "      <td>609</td>\n",
       "      <td>0.738885</td>\n",
       "      <td>0.419994</td>\n",
       "      <td>0.844969</td>\n",
       "      <td>Primary Tumor</td>\n",
       "    </tr>\n",
       "    <tr>\n",
       "      <th>TCGA-DD-AAVZ-01</th>\n",
       "      <td>0</td>\n",
       "      <td>25</td>\n",
       "      <td>0</td>\n",
       "      <td>16</td>\n",
       "      <td>7</td>\n",
       "      <td>2</td>\n",
       "      <td>202</td>\n",
       "      <td>70</td>\n",
       "      <td>0</td>\n",
       "      <td>41</td>\n",
       "      <td>...</td>\n",
       "      <td>105</td>\n",
       "      <td>0</td>\n",
       "      <td>144</td>\n",
       "      <td>0</td>\n",
       "      <td>0.986564</td>\n",
       "      <td>98</td>\n",
       "      <td>0.653175</td>\n",
       "      <td>0.976523</td>\n",
       "      <td>0.651784</td>\n",
       "      <td>Primary Tumor</td>\n",
       "    </tr>\n",
       "    <tr>\n",
       "      <th>TCGA-DD-A1EC-11</th>\n",
       "      <td>2735</td>\n",
       "      <td>3212</td>\n",
       "      <td>2233</td>\n",
       "      <td>2311</td>\n",
       "      <td>522</td>\n",
       "      <td>2642</td>\n",
       "      <td>3930</td>\n",
       "      <td>1672</td>\n",
       "      <td>6770</td>\n",
       "      <td>3762</td>\n",
       "      <td>...</td>\n",
       "      <td>76</td>\n",
       "      <td>0</td>\n",
       "      <td>0</td>\n",
       "      <td>1</td>\n",
       "      <td>0.975435</td>\n",
       "      <td>3515</td>\n",
       "      <td>0.951356</td>\n",
       "      <td>0.979182</td>\n",
       "      <td>0.980733</td>\n",
       "      <td>Solid Tissue Normal</td>\n",
       "    </tr>\n",
       "    <tr>\n",
       "      <th>TCGA-DD-A1EC-01</th>\n",
       "      <td>2</td>\n",
       "      <td>46</td>\n",
       "      <td>2</td>\n",
       "      <td>6</td>\n",
       "      <td>110</td>\n",
       "      <td>0</td>\n",
       "      <td>34</td>\n",
       "      <td>12</td>\n",
       "      <td>164</td>\n",
       "      <td>855</td>\n",
       "      <td>...</td>\n",
       "      <td>146</td>\n",
       "      <td>0</td>\n",
       "      <td>6</td>\n",
       "      <td>1</td>\n",
       "      <td>0.733936</td>\n",
       "      <td>0</td>\n",
       "      <td>0.626723</td>\n",
       "      <td>0.631129</td>\n",
       "      <td>0.938304</td>\n",
       "      <td>Primary Tumor</td>\n",
       "    </tr>\n",
       "    <tr>\n",
       "      <th>TCGA-G3-A25T-01</th>\n",
       "      <td>18</td>\n",
       "      <td>345</td>\n",
       "      <td>157</td>\n",
       "      <td>49</td>\n",
       "      <td>93</td>\n",
       "      <td>529</td>\n",
       "      <td>303</td>\n",
       "      <td>119</td>\n",
       "      <td>362</td>\n",
       "      <td>3217</td>\n",
       "      <td>...</td>\n",
       "      <td>379</td>\n",
       "      <td>0</td>\n",
       "      <td>10</td>\n",
       "      <td>0</td>\n",
       "      <td>0.987416</td>\n",
       "      <td>79</td>\n",
       "      <td>0.956830</td>\n",
       "      <td>0.558836</td>\n",
       "      <td>0.940923</td>\n",
       "      <td>Primary Tumor</td>\n",
       "    </tr>\n",
       "  </tbody>\n",
       "</table>\n",
       "<p>5 rows × 101 columns</p>\n",
       "</div>"
      ],
      "text/plain": [
       "                 ENSG00000104938.18  ENSG00000145708.11  ENSG00000160339.16  \\\n",
       "TCGA-ZP-A9CY-01                  61                 657                 399   \n",
       "TCGA-DD-AAVZ-01                   0                  25                   0   \n",
       "TCGA-DD-A1EC-11                2735                3212                2233   \n",
       "TCGA-DD-A1EC-01                   2                  46                   2   \n",
       "TCGA-G3-A25T-01                  18                 345                 157   \n",
       "\n",
       "                 ENSG00000136011.15  ENSG00000164619.10  ENSG00000263761.3  \\\n",
       "TCGA-ZP-A9CY-01                 191                  76                462   \n",
       "TCGA-DD-AAVZ-01                  16                   7                  2   \n",
       "TCGA-DD-A1EC-11                2311                 522               2642   \n",
       "TCGA-DD-A1EC-01                   6                 110                  0   \n",
       "TCGA-G3-A25T-01                  49                  93                529   \n",
       "\n",
       "                 ENSG00000184374.3  ENSG00000114812.13  ENSG00000019169.10  \\\n",
       "TCGA-ZP-A9CY-01                674                 298                 406   \n",
       "TCGA-DD-AAVZ-01                202                  70                   0   \n",
       "TCGA-DD-A1EC-11               3930                1672                6770   \n",
       "TCGA-DD-A1EC-01                 34                  12                 164   \n",
       "TCGA-G3-A25T-01                303                 119                 362   \n",
       "\n",
       "                 ENSG00000142748.13  ...  ENSG00000082684.16  \\\n",
       "TCGA-ZP-A9CY-01                1026  ...                  76   \n",
       "TCGA-DD-AAVZ-01                  41  ...                 105   \n",
       "TCGA-DD-A1EC-11                3762  ...                  76   \n",
       "TCGA-DD-A1EC-01                 855  ...                 146   \n",
       "TCGA-G3-A25T-01                3217  ...                 379   \n",
       "\n",
       "                 ENSG00000255501.3  ENSG00000112164.6  ENSG00000182798.10  \\\n",
       "TCGA-ZP-A9CY-01                  6                  8                   7   \n",
       "TCGA-DD-AAVZ-01                  0                144                   0   \n",
       "TCGA-DD-A1EC-11                  0                  0                   1   \n",
       "TCGA-DD-A1EC-01                  0                  6                   1   \n",
       "TCGA-G3-A25T-01                  0                 10                   0   \n",
       "\n",
       "                 cg24710938  ENSG00000249173.6  cg22274473  cg23263911  \\\n",
       "TCGA-ZP-A9CY-01    0.645364                609    0.738885    0.419994   \n",
       "TCGA-DD-AAVZ-01    0.986564                 98    0.653175    0.976523   \n",
       "TCGA-DD-A1EC-11    0.975435               3515    0.951356    0.979182   \n",
       "TCGA-DD-A1EC-01    0.733936                  0    0.626723    0.631129   \n",
       "TCGA-G3-A25T-01    0.987416                 79    0.956830    0.558836   \n",
       "\n",
       "                 cg10732560          sample_type  \n",
       "TCGA-ZP-A9CY-01    0.844969        Primary Tumor  \n",
       "TCGA-DD-AAVZ-01    0.651784        Primary Tumor  \n",
       "TCGA-DD-A1EC-11    0.980733  Solid Tissue Normal  \n",
       "TCGA-DD-A1EC-01    0.938304        Primary Tumor  \n",
       "TCGA-G3-A25T-01    0.940923        Primary Tumor  \n",
       "\n",
       "[5 rows x 101 columns]"
      ]
     },
     "execution_count": 198,
     "metadata": {},
     "output_type": "execute_result"
    }
   ],
   "source": [
    "features_exp_meth_reduced.head()"
   ]
  },
  {
   "cell_type": "code",
   "execution_count": 94,
   "metadata": {},
   "outputs": [
    {
     "name": "stdout",
     "output_type": "stream",
     "text": [
      "Fitting 10 folds for each of 100 candidates, totalling 1000 fits\n"
     ]
    },
    {
     "data": {
      "text/plain": [
       "{'n_estimators': 200,\n",
       " 'max_samples': 0.40000000000000013,\n",
       " 'max_features': 0.1,\n",
       " 'class_weight': 'balanced_subsample'}"
      ]
     },
     "execution_count": 94,
     "metadata": {},
     "output_type": "execute_result"
    }
   ],
   "source": [
    "rf = RandomForestClassifier()\n",
    "rf_random_tissue = RandomizedSearchCV(estimator = rf, param_distributions = random_grid, n_iter = 100, cv = 10, verbose=2, random_state=41, n_jobs = -1)\n",
    "rf_random_tissue.fit(features_exp_meth_reduced.drop(['sample_type'], axis = 1), features_exp_meth_reduced.loc[:,'sample_type'])\n",
    "rf_random_tissue.best_params_"
   ]
  },
  {
   "cell_type": "code",
   "execution_count": 199,
   "metadata": {
    "scrolled": true
   },
   "outputs": [
    {
     "name": "stdout",
     "output_type": "stream",
     "text": [
      "classification report on the train set: \n",
      "                      precision    recall  f1-score   support\n",
      "\n",
      "      Primary Tumor       1.00      1.00      1.00       250\n",
      "Solid Tissue Normal       0.96      0.96      0.96        26\n",
      "\n",
      "           accuracy                           0.99       276\n",
      "          macro avg       0.98      0.98      0.98       276\n",
      "       weighted avg       0.99      0.99      0.99       276\n",
      "\n",
      "classification report on the test set: \n",
      "                      precision    recall  f1-score   support\n",
      "\n",
      "      Primary Tumor       0.99      1.00      1.00       121\n",
      "Solid Tissue Normal       1.00      0.93      0.97        15\n",
      "\n",
      "           accuracy                           0.99       136\n",
      "          macro avg       1.00      0.97      0.98       136\n",
      "       weighted avg       0.99      0.99      0.99       136\n",
      "\n"
     ]
    }
   ],
   "source": [
    "##predict sample type using expression and methylation data\n",
    "\n",
    "X = features_exp_meth_reduced.drop(['sample_type'], axis = 1)\n",
    "y = features_exp_meth_reduced.loc[:,'sample_type']\n",
    "\n",
    "X_train, X_test, y_train, y_test = train_test_split(X, y, test_size=0.33, random_state=0) \n",
    "\n",
    "clf_type_red = RandomForestClassifier(n_estimators = 200,  \n",
    "                             max_samples =  0.4, \n",
    "                             max_features = 0.1,\n",
    "                             class_weight = 'balanced_subsample',\n",
    "                             random_state=0)\n",
    "\n",
    "clf_type_red.fit(X_train, y_train)\n",
    "\n",
    "y_pred_train = clf_type_red.predict(X_train)\n",
    "y_pred_test = clf_type_red.predict(X_test)\n",
    "\n",
    "print(\"classification report on the train set: \\n\" ,classification_report(y_train, y_pred_train))\n",
    "print(\"classification report on the test set: \\n\" ,classification_report(y_test, y_pred_test))"
   ]
  },
  {
   "cell_type": "code",
   "execution_count": 201,
   "metadata": {},
   "outputs": [
    {
     "name": "stdout",
     "output_type": "stream",
     "text": [
      "confusion matrix on the train set: \n",
      "\n"
     ]
    },
    {
     "data": {
      "text/plain": [
       "<sklearn.metrics._plot.confusion_matrix.ConfusionMatrixDisplay at 0x2215a9b0e80>"
      ]
     },
     "execution_count": 201,
     "metadata": {},
     "output_type": "execute_result"
    },
    {
     "data": {
      "image/png": "[encoded data removed]",
      "text/plain": [
       "<Figure size 432x288 with 2 Axes>"
      ]
     },
     "metadata": {
      "needs_background": "light"
     },
     "output_type": "display_data"
    }
   ],
   "source": [
    "print(\"confusion matrix on the train set: \\n\")\n",
    "ConfusionMatrixDisplay(confusion_matrix=confusion_matrix(y_train, y_pred_train, normalize = \"true\"), display_labels=clf_type_red.classes_).plot()"
   ]
  },
  {
   "cell_type": "code",
   "execution_count": 200,
   "metadata": {},
   "outputs": [
    {
     "name": "stdout",
     "output_type": "stream",
     "text": [
      "confusion matrix on the train set: \n",
      "\n"
     ]
    },
    {
     "data": {
      "text/plain": [
       "<sklearn.metrics._plot.confusion_matrix.ConfusionMatrixDisplay at 0x2215c3abcd0>"
      ]
     },
     "execution_count": 200,
     "metadata": {},
     "output_type": "execute_result"
    },
    {
     "data": {
      "image/png": "[encoded data removed]",
      "text/plain": [
       "<Figure size 432x288 with 2 Axes>"
      ]
     },
     "metadata": {
      "needs_background": "light"
     },
     "output_type": "display_data"
    }
   ],
   "source": [
    "print(\"confusion matrix on the train set: \\n\")\n",
    "ConfusionMatrixDisplay(confusion_matrix=confusion_matrix(y_test, y_pred_test, normalize = \"true\"), display_labels=clf_type_red.classes_).plot()"
   ]
  },
  {
   "cell_type": "code",
   "execution_count": 202,
   "metadata": {},
   "outputs": [
    {
     "data": {
      "text/plain": [
       "<sklearn.metrics._plot.roc_curve.RocCurveDisplay at 0x2215af2d1c0>"
      ]
     },
     "execution_count": 202,
     "metadata": {},
     "output_type": "execute_result"
    },
    {
     "data": {
      "image/png": "[encoded data removed]",
      "text/plain": [
       "<Figure size 432x288 with 1 Axes>"
      ]
     },
     "metadata": {
      "needs_background": "light"
     },
     "output_type": "display_data"
    }
   ],
   "source": [
    "RocCurveDisplay.from_estimator(clf_type_red,X_test, y_test, name = 'Random forest- Vital status prediction')"
   ]
  },
  {
   "cell_type": "markdown",
   "metadata": {},
   "source": [
    "# Predicting cancer stage from DEGs, DMLs and CNVs (stage I vs. II vs. III)"
   ]
  },
  {
   "cell_type": "code",
   "execution_count": 203,
   "metadata": {
    "scrolled": true
   },
   "outputs": [
    {
     "data": {
      "text/plain": [
       "Stage I      169\n",
       "Stage II      86\n",
       "Stage III     80\n",
       "Stage IV       5\n",
       "Name: ajcc_pathologic_stage, dtype: int64"
      ]
     },
     "execution_count": 203,
     "metadata": {},
     "output_type": "execute_result"
    }
   ],
   "source": [
    "features_complete.loc[:,'ajcc_pathologic_stage'].value_counts()"
   ]
  },
  {
   "cell_type": "code",
   "execution_count": 204,
   "metadata": {
    "scrolled": true
   },
   "outputs": [
    {
     "data": {
      "text/html": [
       "<div>\n",
       "<style scoped>\n",
       "    .dataframe tbody tr th:only-of-type {\n",
       "        vertical-align: middle;\n",
       "    }\n",
       "\n",
       "    .dataframe tbody tr th {\n",
       "        vertical-align: top;\n",
       "    }\n",
       "\n",
       "    .dataframe thead th {\n",
       "        text-align: right;\n",
       "    }\n",
       "</style>\n",
       "<table border=\"1\" class=\"dataframe\">\n",
       "  <thead>\n",
       "    <tr style=\"text-align: right;\">\n",
       "      <th></th>\n",
       "      <th>ENSG00000162670.11</th>\n",
       "      <th>ENSG00000250579.2</th>\n",
       "      <th>ENSG00000249001.5</th>\n",
       "      <th>ENSG00000106038.13</th>\n",
       "      <th>ENSG00000229876.1</th>\n",
       "      <th>ENSG00000179083.6</th>\n",
       "      <th>ENSG00000146755.11</th>\n",
       "      <th>ENSG00000029559.7</th>\n",
       "      <th>ENSG00000159184.8</th>\n",
       "      <th>ENSG00000250284.3</th>\n",
       "      <th>...</th>\n",
       "      <th>chr19:33723706-33837231</th>\n",
       "      <th>chr20:13964029-16252980</th>\n",
       "      <th>chr20:49017144-49057135</th>\n",
       "      <th>chr20:60328006-63025520</th>\n",
       "      <th>chr22:28314430-29085838</th>\n",
       "      <th>chr22:44205320-51304566</th>\n",
       "      <th>sample_type</th>\n",
       "      <th>vital_status</th>\n",
       "      <th>days_to_death</th>\n",
       "      <th>ajcc_pathologic_stage</th>\n",
       "    </tr>\n",
       "  </thead>\n",
       "  <tbody>\n",
       "    <tr>\n",
       "      <th>TCGA-DD-AAVZ-01</th>\n",
       "      <td>0</td>\n",
       "      <td>72</td>\n",
       "      <td>0</td>\n",
       "      <td>2</td>\n",
       "      <td>0</td>\n",
       "      <td>0</td>\n",
       "      <td>2444</td>\n",
       "      <td>0</td>\n",
       "      <td>0</td>\n",
       "      <td>0</td>\n",
       "      <td>...</td>\n",
       "      <td>0</td>\n",
       "      <td>0</td>\n",
       "      <td>0</td>\n",
       "      <td>0</td>\n",
       "      <td>0</td>\n",
       "      <td>0</td>\n",
       "      <td>Primary Tumor</td>\n",
       "      <td>Alive</td>\n",
       "      <td>NaN</td>\n",
       "      <td>Stage I</td>\n",
       "    </tr>\n",
       "    <tr>\n",
       "      <th>TCGA-DD-A1EC-01</th>\n",
       "      <td>0</td>\n",
       "      <td>0</td>\n",
       "      <td>0</td>\n",
       "      <td>0</td>\n",
       "      <td>0</td>\n",
       "      <td>0</td>\n",
       "      <td>2</td>\n",
       "      <td>0</td>\n",
       "      <td>0</td>\n",
       "      <td>0</td>\n",
       "      <td>...</td>\n",
       "      <td>1</td>\n",
       "      <td>0</td>\n",
       "      <td>0</td>\n",
       "      <td>0</td>\n",
       "      <td>0</td>\n",
       "      <td>0</td>\n",
       "      <td>Primary Tumor</td>\n",
       "      <td>Alive</td>\n",
       "      <td>NaN</td>\n",
       "      <td>Stage I</td>\n",
       "    </tr>\n",
       "    <tr>\n",
       "      <th>TCGA-G3-A25T-01</th>\n",
       "      <td>0</td>\n",
       "      <td>49</td>\n",
       "      <td>0</td>\n",
       "      <td>15</td>\n",
       "      <td>0</td>\n",
       "      <td>3</td>\n",
       "      <td>56</td>\n",
       "      <td>409</td>\n",
       "      <td>123</td>\n",
       "      <td>0</td>\n",
       "      <td>...</td>\n",
       "      <td>1</td>\n",
       "      <td>0</td>\n",
       "      <td>0</td>\n",
       "      <td>0</td>\n",
       "      <td>1</td>\n",
       "      <td>1</td>\n",
       "      <td>Primary Tumor</td>\n",
       "      <td>Alive</td>\n",
       "      <td>NaN</td>\n",
       "      <td>Stage III</td>\n",
       "    </tr>\n",
       "    <tr>\n",
       "      <th>TCGA-CC-A8HT-01</th>\n",
       "      <td>156</td>\n",
       "      <td>1</td>\n",
       "      <td>65</td>\n",
       "      <td>8</td>\n",
       "      <td>196</td>\n",
       "      <td>558</td>\n",
       "      <td>153</td>\n",
       "      <td>5</td>\n",
       "      <td>13</td>\n",
       "      <td>36</td>\n",
       "      <td>...</td>\n",
       "      <td>0</td>\n",
       "      <td>0</td>\n",
       "      <td>0</td>\n",
       "      <td>0</td>\n",
       "      <td>0</td>\n",
       "      <td>0</td>\n",
       "      <td>Primary Tumor</td>\n",
       "      <td>Dead</td>\n",
       "      <td>140.0</td>\n",
       "      <td>Stage III</td>\n",
       "    </tr>\n",
       "    <tr>\n",
       "      <th>TCGA-K7-A5RG-01</th>\n",
       "      <td>44</td>\n",
       "      <td>485</td>\n",
       "      <td>0</td>\n",
       "      <td>1</td>\n",
       "      <td>5</td>\n",
       "      <td>457</td>\n",
       "      <td>10</td>\n",
       "      <td>1</td>\n",
       "      <td>88</td>\n",
       "      <td>42</td>\n",
       "      <td>...</td>\n",
       "      <td>0</td>\n",
       "      <td>0</td>\n",
       "      <td>0</td>\n",
       "      <td>0</td>\n",
       "      <td>1</td>\n",
       "      <td>1</td>\n",
       "      <td>Primary Tumor</td>\n",
       "      <td>Alive</td>\n",
       "      <td>NaN</td>\n",
       "      <td>Stage I</td>\n",
       "    </tr>\n",
       "  </tbody>\n",
       "</table>\n",
       "<p>5 rows × 963 columns</p>\n",
       "</div>"
      ],
      "text/plain": [
       "                 ENSG00000162670.11  ENSG00000250579.2  ENSG00000249001.5  \\\n",
       "TCGA-DD-AAVZ-01                   0                 72                  0   \n",
       "TCGA-DD-A1EC-01                   0                  0                  0   \n",
       "TCGA-G3-A25T-01                   0                 49                  0   \n",
       "TCGA-CC-A8HT-01                 156                  1                 65   \n",
       "TCGA-K7-A5RG-01                  44                485                  0   \n",
       "\n",
       "                 ENSG00000106038.13  ENSG00000229876.1  ENSG00000179083.6  \\\n",
       "TCGA-DD-AAVZ-01                   2                  0                  0   \n",
       "TCGA-DD-A1EC-01                   0                  0                  0   \n",
       "TCGA-G3-A25T-01                  15                  0                  3   \n",
       "TCGA-CC-A8HT-01                   8                196                558   \n",
       "TCGA-K7-A5RG-01                   1                  5                457   \n",
       "\n",
       "                 ENSG00000146755.11  ENSG00000029559.7  ENSG00000159184.8  \\\n",
       "TCGA-DD-AAVZ-01                2444                  0                  0   \n",
       "TCGA-DD-A1EC-01                   2                  0                  0   \n",
       "TCGA-G3-A25T-01                  56                409                123   \n",
       "TCGA-CC-A8HT-01                 153                  5                 13   \n",
       "TCGA-K7-A5RG-01                  10                  1                 88   \n",
       "\n",
       "                 ENSG00000250284.3  ...  chr19:33723706-33837231  \\\n",
       "TCGA-DD-AAVZ-01                  0  ...                        0   \n",
       "TCGA-DD-A1EC-01                  0  ...                        1   \n",
       "TCGA-G3-A25T-01                  0  ...                        1   \n",
       "TCGA-CC-A8HT-01                 36  ...                        0   \n",
       "TCGA-K7-A5RG-01                 42  ...                        0   \n",
       "\n",
       "                 chr20:13964029-16252980  chr20:49017144-49057135  \\\n",
       "TCGA-DD-AAVZ-01                        0                        0   \n",
       "TCGA-DD-A1EC-01                        0                        0   \n",
       "TCGA-G3-A25T-01                        0                        0   \n",
       "TCGA-CC-A8HT-01                        0                        0   \n",
       "TCGA-K7-A5RG-01                        0                        0   \n",
       "\n",
       "                 chr20:60328006-63025520  chr22:28314430-29085838  \\\n",
       "TCGA-DD-AAVZ-01                        0                        0   \n",
       "TCGA-DD-A1EC-01                        0                        0   \n",
       "TCGA-G3-A25T-01                        0                        1   \n",
       "TCGA-CC-A8HT-01                        0                        0   \n",
       "TCGA-K7-A5RG-01                        0                        1   \n",
       "\n",
       "                 chr22:44205320-51304566    sample_type  vital_status  \\\n",
       "TCGA-DD-AAVZ-01                        0  Primary Tumor         Alive   \n",
       "TCGA-DD-A1EC-01                        0  Primary Tumor         Alive   \n",
       "TCGA-G3-A25T-01                        1  Primary Tumor         Alive   \n",
       "TCGA-CC-A8HT-01                        0  Primary Tumor          Dead   \n",
       "TCGA-K7-A5RG-01                        1  Primary Tumor         Alive   \n",
       "\n",
       "                 days_to_death  ajcc_pathologic_stage  \n",
       "TCGA-DD-AAVZ-01            NaN                Stage I  \n",
       "TCGA-DD-A1EC-01            NaN                Stage I  \n",
       "TCGA-G3-A25T-01            NaN              Stage III  \n",
       "TCGA-CC-A8HT-01          140.0              Stage III  \n",
       "TCGA-K7-A5RG-01            NaN                Stage I  \n",
       "\n",
       "[5 rows x 963 columns]"
      ]
     },
     "execution_count": 204,
     "metadata": {},
     "output_type": "execute_result"
    }
   ],
   "source": [
    "features_complete_stage = features_complete[~features_complete.loc[:,'ajcc_pathologic_stage'].isnull()]\n",
    "features_complete_stage = features_complete_stage[features_complete_stage.ajcc_pathologic_stage != \"Stage IV\"]\n",
    "features_complete_stage.head()"
   ]
  },
  {
   "cell_type": "code",
   "execution_count": 205,
   "metadata": {},
   "outputs": [
    {
     "data": {
      "text/plain": [
       "Stage I      169\n",
       "Stage II      86\n",
       "Stage III     80\n",
       "Name: ajcc_pathologic_stage, dtype: int64"
      ]
     },
     "execution_count": 205,
     "metadata": {},
     "output_type": "execute_result"
    }
   ],
   "source": [
    "features_complete_stage.loc[:,'ajcc_pathologic_stage'].value_counts()"
   ]
  },
  {
   "cell_type": "markdown",
   "metadata": {},
   "source": [
    "## Hyperparameter optimization (10-fold cross validation)"
   ]
  },
  {
   "cell_type": "code",
   "execution_count": 171,
   "metadata": {},
   "outputs": [
    {
     "name": "stdout",
     "output_type": "stream",
     "text": [
      "Fitting 10 folds for each of 100 candidates, totalling 1000 fits\n"
     ]
    },
    {
     "data": {
      "text/plain": [
       "{'n_estimators': 300,\n",
       " 'max_samples': 0.3500000000000001,\n",
       " 'max_features': 0.40000000000000013,\n",
       " 'class_weight': 'balanced_subsample'}"
      ]
     },
     "execution_count": 171,
     "metadata": {},
     "output_type": "execute_result"
    }
   ],
   "source": [
    "rf = RandomForestClassifier()\n",
    "rf_random_stage = RandomizedSearchCV(estimator = rf, param_distributions = random_grid, n_iter = 100, cv = 10, verbose=2, random_state=41, n_jobs = -1)\n",
    "rf_random_stage.fit(features_complete_stage.drop([\"sample_type\",\"vital_status\",\"days_to_death\", 'ajcc_pathologic_stage'], axis = 1), features_complete_stage.loc[:,'ajcc_pathologic_stage'])\n",
    "rf_random_stage.best_params_"
   ]
  },
  {
   "cell_type": "code",
   "execution_count": 217,
   "metadata": {},
   "outputs": [
    {
     "name": "stdout",
     "output_type": "stream",
     "text": [
      "classification report on the train set: \n",
      "               precision    recall  f1-score   support\n",
      "\n",
      "     Stage I       0.83      1.00      0.91       119\n",
      "    Stage II       1.00      0.77      0.87        56\n",
      "   Stage III       1.00      0.78      0.87        49\n",
      "\n",
      "    accuracy                           0.89       224\n",
      "   macro avg       0.94      0.85      0.88       224\n",
      "weighted avg       0.91      0.89      0.89       224\n",
      "\n",
      "classification report on the test set: \n",
      "               precision    recall  f1-score   support\n",
      "\n",
      "     Stage I       0.47      0.94      0.63        50\n",
      "    Stage II       0.33      0.03      0.06        30\n",
      "   Stage III       0.56      0.16      0.25        31\n",
      "\n",
      "    accuracy                           0.48       111\n",
      "   macro avg       0.45      0.38      0.31       111\n",
      "weighted avg       0.46      0.48      0.37       111\n",
      "\n"
     ]
    }
   ],
   "source": [
    "##predict sample type using expression, methylation and cnv data\n",
    "\n",
    "X = features_complete_stage.drop([\"sample_type\",\"vital_status\",\"days_to_death\", 'ajcc_pathologic_stage'], axis = 1)\n",
    "y = features_complete_stage.loc[:,'ajcc_pathologic_stage']\n",
    "\n",
    "X_train, X_test, y_train, y_test = train_test_split(X, y, test_size=0.33, random_state=0) \n",
    "\n",
    "clf_stage = RandomForestClassifier(n_estimators = 200,  \n",
    "                             max_samples =  0.35, \n",
    "                             max_features = 0.1,\n",
    "                             class_weight = 'balanced_subsample',\n",
    "                             random_state=0)\n",
    "\n",
    "clf_stage.fit(X_train, y_train)\n",
    "\n",
    "y_pred_train = clf_stage.predict(X_train)\n",
    "y_pred_test = clf_stage.predict(X_test)\n",
    "\n",
    "print(\"classification report on the train set: \\n\" ,classification_report(y_train, y_pred_train))\n",
    "print(\"classification report on the test set: \\n\" ,classification_report(y_test, y_pred_test))"
   ]
  },
  {
   "cell_type": "code",
   "execution_count": 214,
   "metadata": {},
   "outputs": [
    {
     "name": "stdout",
     "output_type": "stream",
     "text": [
      "confusion matrix on the train set: \n",
      "\n"
     ]
    },
    {
     "data": {
      "text/plain": [
       "<sklearn.metrics._plot.confusion_matrix.ConfusionMatrixDisplay at 0x2215dfd5a00>"
      ]
     },
     "execution_count": 214,
     "metadata": {},
     "output_type": "execute_result"
    },
    {
     "data": {
      "image/png": "[encoded data removed]",
      "text/plain": [
       "<Figure size 432x288 with 2 Axes>"
      ]
     },
     "metadata": {
      "needs_background": "light"
     },
     "output_type": "display_data"
    }
   ],
   "source": [
    "print(\"confusion matrix on the train set: \\n\")\n",
    "ConfusionMatrixDisplay(confusion_matrix=confusion_matrix(y_train, y_pred_train, normalize = \"true\"), display_labels=clf_stage.classes_).plot()"
   ]
  },
  {
   "cell_type": "code",
   "execution_count": 215,
   "metadata": {},
   "outputs": [
    {
     "name": "stdout",
     "output_type": "stream",
     "text": [
      "confusion matrix on the test set: \n",
      "\n"
     ]
    },
    {
     "data": {
      "text/plain": [
       "<sklearn.metrics._plot.confusion_matrix.ConfusionMatrixDisplay at 0x2215ebca4f0>"
      ]
     },
     "execution_count": 215,
     "metadata": {},
     "output_type": "execute_result"
    },
    {
     "data": {
      "image/png": "[encoded data removed]",
      "text/plain": [
       "<Figure size 432x288 with 2 Axes>"
      ]
     },
     "metadata": {
      "needs_background": "light"
     },
     "output_type": "display_data"
    }
   ],
   "source": [
    "print(\"confusion matrix on the test set: \\n\", )\n",
    "ConfusionMatrixDisplay(confusion_matrix=confusion_matrix(y_test, y_pred_test, normalize = \"true\"), display_labels=clf_stage.classes_).plot()"
   ]
  },
  {
   "cell_type": "markdown",
   "metadata": {
    "id": "8Fmnbgu24VSr"
   },
   "source": [
    "# Predicting vital status from DEGs, DMLs and CNVs"
   ]
  },
  {
   "cell_type": "code",
   "execution_count": 229,
   "metadata": {},
   "outputs": [
    {
     "data": {
      "text/plain": [
       "Primary Tumor    364\n",
       "Name: sample_type, dtype: int64"
      ]
     },
     "execution_count": 229,
     "metadata": {},
     "output_type": "execute_result"
    }
   ],
   "source": [
    "features_complete.loc[:,'sample_type'].value_counts()"
   ]
  },
  {
   "cell_type": "code",
   "execution_count": 230,
   "metadata": {
    "colab": {
     "base_uri": "https://localhost:8080/"
    },
    "executionInfo": {
     "elapsed": 228,
     "status": "ok",
     "timestamp": 1656949094396,
     "user": {
      "displayName": "Kristin Koehler",
      "userId": "05608814021879890211"
     },
     "user_tz": -120
    },
    "id": "tro8Hlo61WVg",
    "outputId": "423a83ec-7943-409d-a226-2420ad8c02ca",
    "scrolled": true
   },
   "outputs": [
    {
     "data": {
      "text/plain": [
       "Alive           236\n",
       "Dead            127\n",
       "Not Reported      1\n",
       "Name: vital_status, dtype: int64"
      ]
     },
     "execution_count": 230,
     "metadata": {},
     "output_type": "execute_result"
    }
   ],
   "source": [
    "##still imbalanced\n",
    "features_complete.loc[:,'vital_status'].value_counts()"
   ]
  },
  {
   "cell_type": "code",
   "execution_count": 231,
   "metadata": {
    "executionInfo": {
     "elapsed": 253,
     "status": "ok",
     "timestamp": 1656949098291,
     "user": {
      "displayName": "Kristin Koehler",
      "userId": "05608814021879890211"
     },
     "user_tz": -120
    },
    "id": "YRu16dpM1g7G"
   },
   "outputs": [],
   "source": [
    "##remove rows with vital status not available\n",
    "features_complete = features_complete.drop(features_complete[features_complete.vital_status=='Not Reported'].index)"
   ]
  },
  {
   "cell_type": "code",
   "execution_count": 232,
   "metadata": {
    "colab": {
     "base_uri": "https://localhost:8080/"
    },
    "executionInfo": {
     "elapsed": 3,
     "status": "ok",
     "timestamp": 1656949100577,
     "user": {
      "displayName": "Kristin Koehler",
      "userId": "05608814021879890211"
     },
     "user_tz": -120
    },
    "id": "qal-3quH14hk",
    "outputId": "0cf124cd-a0d7-4560-e83a-e7ee6a3b7a02",
    "scrolled": true
   },
   "outputs": [
    {
     "data": {
      "text/plain": [
       "Alive    236\n",
       "Dead     127\n",
       "Name: vital_status, dtype: int64"
      ]
     },
     "execution_count": 232,
     "metadata": {},
     "output_type": "execute_result"
    }
   ],
   "source": [
    "features_complete.loc[:,'vital_status'].value_counts()"
   ]
  },
  {
   "cell_type": "markdown",
   "metadata": {},
   "source": [
    "## Hyperparameter optimization (10-fold cross validation)"
   ]
  },
  {
   "cell_type": "code",
   "execution_count": 28,
   "metadata": {},
   "outputs": [
    {
     "name": "stdout",
     "output_type": "stream",
     "text": [
      "Fitting 10 folds for each of 100 candidates, totalling 1000 fits\n"
     ]
    },
    {
     "data": {
      "text/plain": [
       "{'n_estimators': 100,\n",
       " 'max_samples': 0.20000000000000004,\n",
       " 'max_features': 0.3500000000000001,\n",
       " 'class_weight': 'balanced_subsample'}"
      ]
     },
     "execution_count": 28,
     "metadata": {},
     "output_type": "execute_result"
    }
   ],
   "source": [
    "rf_random_status.fit(features_complete.drop(['days_to_death', 'vital_status'], axis = 1), features_complete.loc[:,'vital_status'])\n",
    "rf_random_status.best_params_"
   ]
  },
  {
   "cell_type": "code",
   "execution_count": 233,
   "metadata": {},
   "outputs": [
    {
     "data": {
      "text/html": [
       "<div>\n",
       "<style scoped>\n",
       "    .dataframe tbody tr th:only-of-type {\n",
       "        vertical-align: middle;\n",
       "    }\n",
       "\n",
       "    .dataframe tbody tr th {\n",
       "        vertical-align: top;\n",
       "    }\n",
       "\n",
       "    .dataframe thead th {\n",
       "        text-align: right;\n",
       "    }\n",
       "</style>\n",
       "<table border=\"1\" class=\"dataframe\">\n",
       "  <thead>\n",
       "    <tr style=\"text-align: right;\">\n",
       "      <th></th>\n",
       "      <th>ENSG00000162670.11</th>\n",
       "      <th>ENSG00000250579.2</th>\n",
       "      <th>ENSG00000249001.5</th>\n",
       "      <th>ENSG00000106038.13</th>\n",
       "      <th>ENSG00000229876.1</th>\n",
       "      <th>ENSG00000179083.6</th>\n",
       "      <th>ENSG00000146755.11</th>\n",
       "      <th>ENSG00000029559.7</th>\n",
       "      <th>ENSG00000159184.8</th>\n",
       "      <th>ENSG00000250284.3</th>\n",
       "      <th>...</th>\n",
       "      <th>chr19:33723706-33837231</th>\n",
       "      <th>chr20:13964029-16252980</th>\n",
       "      <th>chr20:49017144-49057135</th>\n",
       "      <th>chr20:60328006-63025520</th>\n",
       "      <th>chr22:28314430-29085838</th>\n",
       "      <th>chr22:44205320-51304566</th>\n",
       "      <th>sample_type</th>\n",
       "      <th>vital_status</th>\n",
       "      <th>days_to_death</th>\n",
       "      <th>ajcc_pathologic_stage</th>\n",
       "    </tr>\n",
       "  </thead>\n",
       "  <tbody>\n",
       "    <tr>\n",
       "      <th>TCGA-ZP-A9CY-01</th>\n",
       "      <td>5</td>\n",
       "      <td>93</td>\n",
       "      <td>1</td>\n",
       "      <td>0</td>\n",
       "      <td>1</td>\n",
       "      <td>1</td>\n",
       "      <td>17</td>\n",
       "      <td>4</td>\n",
       "      <td>0</td>\n",
       "      <td>0</td>\n",
       "      <td>...</td>\n",
       "      <td>0</td>\n",
       "      <td>0</td>\n",
       "      <td>0</td>\n",
       "      <td>0</td>\n",
       "      <td>0</td>\n",
       "      <td>0</td>\n",
       "      <td>Primary Tumor</td>\n",
       "      <td>Alive</td>\n",
       "      <td>NaN</td>\n",
       "      <td>NaN</td>\n",
       "    </tr>\n",
       "    <tr>\n",
       "      <th>TCGA-DD-AAVZ-01</th>\n",
       "      <td>0</td>\n",
       "      <td>72</td>\n",
       "      <td>0</td>\n",
       "      <td>2</td>\n",
       "      <td>0</td>\n",
       "      <td>0</td>\n",
       "      <td>2444</td>\n",
       "      <td>0</td>\n",
       "      <td>0</td>\n",
       "      <td>0</td>\n",
       "      <td>...</td>\n",
       "      <td>0</td>\n",
       "      <td>0</td>\n",
       "      <td>0</td>\n",
       "      <td>0</td>\n",
       "      <td>0</td>\n",
       "      <td>0</td>\n",
       "      <td>Primary Tumor</td>\n",
       "      <td>Alive</td>\n",
       "      <td>NaN</td>\n",
       "      <td>Stage I</td>\n",
       "    </tr>\n",
       "    <tr>\n",
       "      <th>TCGA-DD-A1EC-01</th>\n",
       "      <td>0</td>\n",
       "      <td>0</td>\n",
       "      <td>0</td>\n",
       "      <td>0</td>\n",
       "      <td>0</td>\n",
       "      <td>0</td>\n",
       "      <td>2</td>\n",
       "      <td>0</td>\n",
       "      <td>0</td>\n",
       "      <td>0</td>\n",
       "      <td>...</td>\n",
       "      <td>1</td>\n",
       "      <td>0</td>\n",
       "      <td>0</td>\n",
       "      <td>0</td>\n",
       "      <td>0</td>\n",
       "      <td>0</td>\n",
       "      <td>Primary Tumor</td>\n",
       "      <td>Alive</td>\n",
       "      <td>NaN</td>\n",
       "      <td>Stage I</td>\n",
       "    </tr>\n",
       "    <tr>\n",
       "      <th>TCGA-G3-A25T-01</th>\n",
       "      <td>0</td>\n",
       "      <td>49</td>\n",
       "      <td>0</td>\n",
       "      <td>15</td>\n",
       "      <td>0</td>\n",
       "      <td>3</td>\n",
       "      <td>56</td>\n",
       "      <td>409</td>\n",
       "      <td>123</td>\n",
       "      <td>0</td>\n",
       "      <td>...</td>\n",
       "      <td>1</td>\n",
       "      <td>0</td>\n",
       "      <td>0</td>\n",
       "      <td>0</td>\n",
       "      <td>1</td>\n",
       "      <td>1</td>\n",
       "      <td>Primary Tumor</td>\n",
       "      <td>Alive</td>\n",
       "      <td>NaN</td>\n",
       "      <td>Stage III</td>\n",
       "    </tr>\n",
       "    <tr>\n",
       "      <th>TCGA-CC-A8HT-01</th>\n",
       "      <td>156</td>\n",
       "      <td>1</td>\n",
       "      <td>65</td>\n",
       "      <td>8</td>\n",
       "      <td>196</td>\n",
       "      <td>558</td>\n",
       "      <td>153</td>\n",
       "      <td>5</td>\n",
       "      <td>13</td>\n",
       "      <td>36</td>\n",
       "      <td>...</td>\n",
       "      <td>0</td>\n",
       "      <td>0</td>\n",
       "      <td>0</td>\n",
       "      <td>0</td>\n",
       "      <td>0</td>\n",
       "      <td>0</td>\n",
       "      <td>Primary Tumor</td>\n",
       "      <td>Dead</td>\n",
       "      <td>140.0</td>\n",
       "      <td>Stage III</td>\n",
       "    </tr>\n",
       "  </tbody>\n",
       "</table>\n",
       "<p>5 rows × 963 columns</p>\n",
       "</div>"
      ],
      "text/plain": [
       "                 ENSG00000162670.11  ENSG00000250579.2  ENSG00000249001.5  \\\n",
       "TCGA-ZP-A9CY-01                   5                 93                  1   \n",
       "TCGA-DD-AAVZ-01                   0                 72                  0   \n",
       "TCGA-DD-A1EC-01                   0                  0                  0   \n",
       "TCGA-G3-A25T-01                   0                 49                  0   \n",
       "TCGA-CC-A8HT-01                 156                  1                 65   \n",
       "\n",
       "                 ENSG00000106038.13  ENSG00000229876.1  ENSG00000179083.6  \\\n",
       "TCGA-ZP-A9CY-01                   0                  1                  1   \n",
       "TCGA-DD-AAVZ-01                   2                  0                  0   \n",
       "TCGA-DD-A1EC-01                   0                  0                  0   \n",
       "TCGA-G3-A25T-01                  15                  0                  3   \n",
       "TCGA-CC-A8HT-01                   8                196                558   \n",
       "\n",
       "                 ENSG00000146755.11  ENSG00000029559.7  ENSG00000159184.8  \\\n",
       "TCGA-ZP-A9CY-01                  17                  4                  0   \n",
       "TCGA-DD-AAVZ-01                2444                  0                  0   \n",
       "TCGA-DD-A1EC-01                   2                  0                  0   \n",
       "TCGA-G3-A25T-01                  56                409                123   \n",
       "TCGA-CC-A8HT-01                 153                  5                 13   \n",
       "\n",
       "                 ENSG00000250284.3  ...  chr19:33723706-33837231  \\\n",
       "TCGA-ZP-A9CY-01                  0  ...                        0   \n",
       "TCGA-DD-AAVZ-01                  0  ...                        0   \n",
       "TCGA-DD-A1EC-01                  0  ...                        1   \n",
       "TCGA-G3-A25T-01                  0  ...                        1   \n",
       "TCGA-CC-A8HT-01                 36  ...                        0   \n",
       "\n",
       "                 chr20:13964029-16252980  chr20:49017144-49057135  \\\n",
       "TCGA-ZP-A9CY-01                        0                        0   \n",
       "TCGA-DD-AAVZ-01                        0                        0   \n",
       "TCGA-DD-A1EC-01                        0                        0   \n",
       "TCGA-G3-A25T-01                        0                        0   \n",
       "TCGA-CC-A8HT-01                        0                        0   \n",
       "\n",
       "                 chr20:60328006-63025520  chr22:28314430-29085838  \\\n",
       "TCGA-ZP-A9CY-01                        0                        0   \n",
       "TCGA-DD-AAVZ-01                        0                        0   \n",
       "TCGA-DD-A1EC-01                        0                        0   \n",
       "TCGA-G3-A25T-01                        0                        1   \n",
       "TCGA-CC-A8HT-01                        0                        0   \n",
       "\n",
       "                 chr22:44205320-51304566    sample_type  vital_status  \\\n",
       "TCGA-ZP-A9CY-01                        0  Primary Tumor         Alive   \n",
       "TCGA-DD-AAVZ-01                        0  Primary Tumor         Alive   \n",
       "TCGA-DD-A1EC-01                        0  Primary Tumor         Alive   \n",
       "TCGA-G3-A25T-01                        1  Primary Tumor         Alive   \n",
       "TCGA-CC-A8HT-01                        0  Primary Tumor          Dead   \n",
       "\n",
       "                 days_to_death  ajcc_pathologic_stage  \n",
       "TCGA-ZP-A9CY-01            NaN                    NaN  \n",
       "TCGA-DD-AAVZ-01            NaN                Stage I  \n",
       "TCGA-DD-A1EC-01            NaN                Stage I  \n",
       "TCGA-G3-A25T-01            NaN              Stage III  \n",
       "TCGA-CC-A8HT-01          140.0              Stage III  \n",
       "\n",
       "[5 rows x 963 columns]"
      ]
     },
     "execution_count": 233,
     "metadata": {},
     "output_type": "execute_result"
    }
   ],
   "source": [
    "features_complete.head()"
   ]
  },
  {
   "cell_type": "code",
   "execution_count": 234,
   "metadata": {
    "colab": {
     "base_uri": "https://localhost:8080/"
    },
    "executionInfo": {
     "elapsed": 3657,
     "status": "ok",
     "timestamp": 1656949136210,
     "user": {
      "displayName": "Kristin Koehler",
      "userId": "05608814021879890211"
     },
     "user_tz": -120
    },
    "id": "TTo7edF_w4BY",
    "outputId": "37da2d1d-cf16-4978-8ba3-63bf56574418"
   },
   "outputs": [
    {
     "name": "stdout",
     "output_type": "stream",
     "text": [
      "classification report on the train set: \n",
      "               precision    recall  f1-score   support\n",
      "\n",
      "       Alive       0.75      1.00      0.86       159\n",
      "        Dead       1.00      0.38      0.55        84\n",
      "\n",
      "    accuracy                           0.79       243\n",
      "   macro avg       0.88      0.69      0.71       243\n",
      "weighted avg       0.84      0.79      0.75       243\n",
      "\n",
      "classification report on the test set: \n",
      "               precision    recall  f1-score   support\n",
      "\n",
      "       Alive       0.65      0.99      0.78        77\n",
      "        Dead       0.67      0.05      0.09        43\n",
      "\n",
      "    accuracy                           0.65       120\n",
      "   macro avg       0.66      0.52      0.44       120\n",
      "weighted avg       0.66      0.65      0.53       120\n",
      "\n"
     ]
    }
   ],
   "source": [
    "##predict vital_status using expression, methylation and cnv data\n",
    "X = features_complete.drop(['sample_type','vital_status', 'days_to_death', 'ajcc_pathologic_stage'], axis = 1)\n",
    "y = features_complete.loc[:,'vital_status']\n",
    "\n",
    "X_train, X_test, y_train, y_test = train_test_split(X, y, test_size=0.33, random_state=0) \n",
    "\n",
    "clf_status = RandomForestClassifier(n_estimators = 100,  \n",
    "                             max_samples =  0.2, \n",
    "                             max_features = 0.35,\n",
    "                             class_weight = 'balanced_subsample',\n",
    "                             random_state=0)\n",
    "\n",
    "clf_status.fit(X_train, y_train)\n",
    "\n",
    "y_pred_train = clf_status.predict(X_train)\n",
    "y_pred_test = clf_status.predict(X_test)\n",
    "\n",
    "print(\"classification report on the train set: \\n\" ,classification_report(y_train, y_pred_train))\n",
    "print(\"classification report on the test set: \\n\" ,classification_report(y_test, y_pred_test))"
   ]
  },
  {
   "cell_type": "code",
   "execution_count": 235,
   "metadata": {},
   "outputs": [
    {
     "name": "stdout",
     "output_type": "stream",
     "text": [
      "confusion matrix on the train set: \n",
      "\n"
     ]
    },
    {
     "data": {
      "text/plain": [
       "<sklearn.metrics._plot.confusion_matrix.ConfusionMatrixDisplay at 0x221570f43a0>"
      ]
     },
     "execution_count": 235,
     "metadata": {},
     "output_type": "execute_result"
    },
    {
     "data": {
      "image/png": "[encoded data removed]",
      "text/plain": [
       "<Figure size 432x288 with 2 Axes>"
      ]
     },
     "metadata": {
      "needs_background": "light"
     },
     "output_type": "display_data"
    }
   ],
   "source": [
    "print(\"confusion matrix on the train set: \\n\")\n",
    "ConfusionMatrixDisplay(confusion_matrix=confusion_matrix(y_train, y_pred_train, normalize = \"true\"), display_labels=clf_status.classes_).plot()"
   ]
  },
  {
   "cell_type": "code",
   "execution_count": 236,
   "metadata": {},
   "outputs": [
    {
     "name": "stdout",
     "output_type": "stream",
     "text": [
      "confusion matrix on the train set: \n",
      "\n"
     ]
    },
    {
     "data": {
      "text/plain": [
       "<sklearn.metrics._plot.confusion_matrix.ConfusionMatrixDisplay at 0x2215e0b0820>"
      ]
     },
     "execution_count": 236,
     "metadata": {},
     "output_type": "execute_result"
    },
    {
     "data": {
      "image/png": "[encoded data removed]",
      "text/plain": [
       "<Figure size 432x288 with 2 Axes>"
      ]
     },
     "metadata": {
      "needs_background": "light"
     },
     "output_type": "display_data"
    }
   ],
   "source": [
    "print(\"confusion matrix on the train set: \\n\")\n",
    "ConfusionMatrixDisplay(confusion_matrix=confusion_matrix(y_test, y_pred_test, normalize = \"true\"), display_labels=clf_status.classes_).plot()"
   ]
  },
  {
   "cell_type": "code",
   "execution_count": 237,
   "metadata": {
    "colab": {
     "base_uri": "https://localhost:8080/",
     "height": 296
    },
    "executionInfo": {
     "elapsed": 811,
     "status": "ok",
     "timestamp": 1656949268941,
     "user": {
      "displayName": "Kristin Koehler",
      "userId": "05608814021879890211"
     },
     "user_tz": -120
    },
    "id": "eqohy-RQ3ptP",
    "outputId": "68617b7c-9e98-4f89-d44f-7899b9761017",
    "scrolled": true
   },
   "outputs": [
    {
     "data": {
      "text/plain": [
       "<sklearn.metrics._plot.roc_curve.RocCurveDisplay at 0x2215eb335e0>"
      ]
     },
     "execution_count": 237,
     "metadata": {},
     "output_type": "execute_result"
    },
    {
     "data": {
      "image/png": "[encoded data removed]",
      "text/plain": [
       "<Figure size 432x288 with 1 Axes>"
      ]
     },
     "metadata": {
      "needs_background": "light"
     },
     "output_type": "display_data"
    }
   ],
   "source": [
    "RocCurveDisplay.from_estimator(clf_status,X_test, y_test, name = 'Random forest- Vital status prediction')"
   ]
  }
 ],
 "metadata": {
  "colab": {
   "authorship_tag": "ABX9TyPvbNY4FROQQQQE8X0mTgt3",
   "collapsed_sections": [],
   "name": "ML_LIHC.ipynb",
   "provenance": []
  },
  "kernelspec": {
   "display_name": "Python 3 (ipykernel)",
   "language": "python",
   "name": "python3"
  },
  "language_info": {
   "codemirror_mode": {
    "name": "ipython",
    "version": 3
   },
   "file_extension": ".py",
   "mimetype": "text/x-python",
   "name": "python",
   "nbconvert_exporter": "python",
   "pygments_lexer": "ipython3",
   "version": "3.9.12"
  }
 },
 "nbformat": 4,
 "nbformat_minor": 1
}
